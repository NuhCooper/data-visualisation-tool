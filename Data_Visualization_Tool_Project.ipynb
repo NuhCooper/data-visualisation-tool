{
  "nbformat": 4,
  "nbformat_minor": 0,
  "metadata": {
    "colab": {
      "provenance": []
    },
    "kernelspec": {
      "name": "python3",
      "display_name": "Python 3"
    },
    "language_info": {
      "name": "python"
    }
  },
  "cells": [
    {
      "cell_type": "markdown",
      "source": [
        "# Automated Data Visualisation with Generative AI\n",
        "This project is designed to generate visualisations automatically for any uploaded dataset. The tool identifies numerical and categorical columns, then creates visualisations—such as scatter plots, histograms, and box plots—based on the dataset's structure, making it highly adaptable and user-friendly."
      ],
      "metadata": {
        "id": "GCmwazEsg1gm"
      }
    },
    {
      "cell_type": "markdown",
      "source": [
        "Step 1: Importing Libraries\n",
        "To build this project, we use several libraries:\n",
        "\n",
        "* **Pandas:** for data handling\n",
        "* **Matplotlib:** for basic visualisations\n",
        "* **Seaborn:** for sample datasets\n",
        "* **Plotly:** for interactive visualisations\n",
        "* **ipywidgets:** for creating user input widgets\n",
        "\n",
        "If **Plotly** is not already installed, run the following code to install it:"
      ],
      "metadata": {
        "id": "u2-TC1UGgmb4"
      }
    },
    {
      "cell_type": "code",
      "source": [
        "# Install Plotly if not already installed\n",
        "!pip install plotly\n",
        "\n",
        "# Import all necessary libraries\n",
        "import pandas as pd\n",
        "import seaborn as sns\n",
        "import matplotlib.pyplot as plt\n",
        "import plotly.express as px\n",
        "import ipywidgets as widgets\n",
        "from IPython.display import display"
      ],
      "metadata": {
        "id": "nV38b97mhtX3"
      },
      "execution_count": null,
      "outputs": []
    },
    {
      "cell_type": "markdown",
      "source": [
        "##Step 2: File Upload for Custom Dataset\n",
        "This section allows users to upload their own dataset, replacing the sample data. Supported file types are .xlsx and .csv. Once uploaded, the visualisations in the following sections will automatically use the new data."
      ],
      "metadata": {
        "id": "y4I3qpg9l1ND"
      }
    },
    {
      "cell_type": "code",
      "source": [
        "from google.colab import files\n",
        "\n",
        "# Create an upload button\n",
        "uploaded = files.upload()\n",
        "\n",
        "# Load the uploaded file into a DataFrame\n",
        "if uploaded:\n",
        "    for filename in uploaded.keys():\n",
        "        if filename.endswith('.xlsx'):\n",
        "            df = pd.read_excel(filename)  # Use read_excel for Excel files\n",
        "            print(f\"Loaded '{filename}' successfully as an Excel file!\")\n",
        "        elif filename.endswith('.csv'):\n",
        "            df = pd.read_csv(filename)  # Use read_csv for CSV files\n",
        "            print(f\"Loaded '{filename}' successfully as a CSV file!\")\n",
        "        else:\n",
        "            print(f\"Unsupported file type: {filename}\")\n",
        "            df = None\n",
        "\n",
        "        if df is not None:\n",
        "            display(df.head())  # Show a preview of the data"
      ],
      "metadata": {
        "id": "l1P8E6uTl3l-"
      },
      "execution_count": null,
      "outputs": []
    },
    {
      "cell_type": "markdown",
      "source": [
        "##Step 3: Column Type Detection and Data Overview\n",
        "This section identifies numerical and categorical columns in the dataset. These classifications allow us to generate suitable visualisations automatically based on the data’s structure."
      ],
      "metadata": {
        "id": "qtThQkIJn5N6"
      }
    },
    {
      "cell_type": "code",
      "source": [
        "# Basic data overview\n",
        "print(\"Dataset Shape:\", df.shape)\n",
        "print(\"Dataset Columns Overview:\")\n",
        "display(df.describe(include='all'))\n",
        "\n",
        "# Detect numerical and categorical columns\n",
        "numerical_columns = df.select_dtypes(include=['float64', 'int64']).columns\n",
        "categorical_columns = df.select_dtypes(include=['object', 'category']).columns\n",
        "\n",
        "print(\"Numerical Columns:\", numerical_columns)\n",
        "print(\"Categorical Columns:\", categorical_columns)"
      ],
      "metadata": {
        "id": "9MXA7kgzn68L"
      },
      "execution_count": null,
      "outputs": []
    },
    {
      "cell_type": "markdown",
      "source": [
        "##Step 4: Automated Visualisation Generation\n",
        "This function generates visualisations automatically based on the detected column types. It creates scatter plots, histograms, and box plots if the dataset includes suitable columns."
      ],
      "metadata": {
        "id": "HmtQS3mYoARy"
      }
    },
    {
      "cell_type": "code",
      "source": [
        "def auto_visualise(df):\n",
        "    # Detect numerical and categorical columns\n",
        "    numerical_columns = df.select_dtypes(include=['float64', 'int64']).columns\n",
        "    categorical_columns = df.select_dtypes(include=['object', 'category']).columns\n",
        "\n",
        "    # Scatter plot for two numerical columns (if available)\n",
        "    if len(numerical_columns) >= 2:\n",
        "        # Use the first categorical column for color, if available\n",
        "        color_column = categorical_columns[0] if len(categorical_columns) > 0 else None\n",
        "\n",
        "        # Generate scatter plot using the first two numerical columns\n",
        "        fig = px.scatter(df, x=numerical_columns[0], y=numerical_columns[1],\n",
        "                         title=f'Scatter Plot: {numerical_columns[0]} vs {numerical_columns[1]}',\n",
        "                         color=color_column)  # Color by the first categorical column if available\n",
        "        fig.show()\n",
        "    else:\n",
        "        print(\"Scatter plot: Need at least two numerical columns.\")\n",
        "\n",
        "    # Histogram for a single numerical column (if available)\n",
        "    if len(numerical_columns) >= 1:\n",
        "        # Generate histogram for the first numerical column\n",
        "        fig = px.histogram(df, x=numerical_columns[0],\n",
        "                           title=f'Histogram of {numerical_columns[0]}',\n",
        "                           color_discrete_sequence=['blue'])  # Set to default blue colour\n",
        "        fig.show()\n",
        "    else:\n",
        "        print(\"Histogram: No numerical columns available.\")\n",
        "\n",
        "    # Box plot for one numerical and one categorical column (if available)\n",
        "    if len(numerical_columns) >= 1 and len(categorical_columns) >= 1:\n",
        "        # Generate box plot with first numerical and first categorical column\n",
        "        fig = px.box(df, x=categorical_columns[0], y=numerical_columns[0],\n",
        "                     title=f'Box Plot: {numerical_columns[0]} by {categorical_columns[0]}',\n",
        "                     color_discrete_sequence=['blue'])  # Set to default blue colour\n",
        "        fig.show()\n",
        "    else:\n",
        "        print(\"Box plot: Need at least one numerical and one categorical column.\")"
      ],
      "metadata": {
        "id": "1Be-4PiboBKY"
      },
      "execution_count": 143,
      "outputs": []
    },
    {
      "cell_type": "markdown",
      "source": [
        "##Step 5: Suggest Ideal Visualisations\n",
        "This step integrates a function that evaluates the dataset and suggests the most suitable visualisations based on its characteristics."
      ],
      "metadata": {
        "id": "Vzz2bGTb0gcD"
      }
    },
    {
      "cell_type": "code",
      "source": [
        "def suggest_visualisations(df):\n",
        "    # Detect numerical and categorical columns\n",
        "    numerical_columns = df.select_dtypes(include=['float64', 'int64']).columns\n",
        "    categorical_columns = df.select_dtypes(include=['object', 'category']).columns\n",
        "\n",
        "    suggestions = []\n",
        "\n",
        "    # Suggest visualisations based on the presence of numerical and categorical columns\n",
        "    if len(numerical_columns) >= 2:\n",
        "        suggestions.append(\"Scatter Plot: Ideal for exploring relationships between two numerical variables.\")\n",
        "\n",
        "    if len(numerical_columns) >= 1:\n",
        "        suggestions.append(\"Histogram: Useful for understanding the distribution of a numerical variable.\")\n",
        "\n",
        "    if len(numerical_columns) >= 1 and len(categorical_columns) >= 1:\n",
        "        suggestions.append(\"Box Plot: Great for comparing distributions of a numerical variable across categories.\")\n",
        "\n",
        "    if len(categorical_columns) >= 1:\n",
        "        suggestions.append(\"Bar Chart: Effective for visualizing the counts of categorical data.\")\n",
        "\n",
        "    if not suggestions:\n",
        "        suggestions.append(\"No suitable visualisations could be suggested based on the dataset structure.\")\n",
        "\n",
        "    return suggestions"
      ],
      "metadata": {
        "id": "1xvZpuC80tMk"
      },
      "execution_count": 144,
      "outputs": []
    },
    {
      "cell_type": "markdown",
      "source": [
        "##Step 6: Display Suggested Visualisations\n",
        "Run the following code to get suggestions for the best visualisations based on the current dataset."
      ],
      "metadata": {
        "id": "wiKVDbYB1Lm9"
      }
    },
    {
      "cell_type": "code",
      "source": [
        "# Suggest ideal visualisations based on the dataset\n",
        "visualisation_suggestions = suggest_visualisations(df)\n",
        "print(\"Suggested Visualisations:\")\n",
        "for suggestion in visualisation_suggestions:\n",
        "    print(f\"- {suggestion}\")"
      ],
      "metadata": {
        "id": "au-AxfXR1MmP"
      },
      "execution_count": null,
      "outputs": []
    },
    {
      "cell_type": "markdown",
      "source": [
        "##Step 7: Execute Auto-Visualisation\n",
        "Run the auto_visualise function below to create visualisations based on the current dataset."
      ],
      "metadata": {
        "id": "51aEx2N3E3VF"
      }
    },
    {
      "cell_type": "code",
      "source": [
        "# Call the auto_visualise function without colour parameters\n",
        "auto_visualise(df)"
      ],
      "metadata": {
        "id": "9FoNAfkKE5yw"
      },
      "execution_count": null,
      "outputs": []
    },
    {
      "cell_type": "markdown",
      "source": [
        "##Summary and Next Steps\n",
        "This project provides a dynamic and interactive data visualisation tool that allows users to upload any dataset and automatically generate insightful visualisations. The tool uses machine learning to suggest the most suitable visualisations based on the characteristics of the dataset, enhancing the user experience by guiding them towards optimal visual insights.\n",
        "\n",
        "Other features include automatic visualisation generation, making this tool a flexible approach to data exploration and insight generation.\n",
        "\n",
        "**Next Steps:**\n",
        "* Customisable Colour Options: Introduce the ability for users to select custom colours for different types of visualisations to enhance personalisation and visual appeal.\n",
        "\n",
        "* Additional Visualisation Types: Expand the variety of graph types available, such as pie charts, line graphs, and heatmaps, to provide users with more options for data representation.\n",
        "\n",
        "* Refinement of Suggestion Mechanisms: Explore improvements in the suggestion features to provide even better guidance based on dataset characteristics.\n",
        "\n",
        "* Complex Data Upload Features: Enable connections to external databases and support a broader array of file types for improved versatility."
      ],
      "metadata": {
        "id": "ePZDSdUNmQuy"
      }
    }
  ]
}